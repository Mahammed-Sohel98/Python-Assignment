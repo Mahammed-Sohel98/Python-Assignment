{
 "cells": [
  {
   "cell_type": "code",
   "execution_count": null,
   "id": "223150d2",
   "metadata": {},
   "outputs": [],
   "source": [
    "###------------------   question of list     ---------------------------------------------"
   ]
  },
  {
   "cell_type": "code",
   "execution_count": 2,
   "id": "9672a420",
   "metadata": {},
   "outputs": [
    {
     "name": "stdout",
     "output_type": "stream",
     "text": [
      "Enter the number sequence: 3,5,7,13\n",
      "List is:  ['3', '5', '7', '13']\n",
      "tuple is:  ('3', '5', '7', '13')\n"
     ]
    }
   ],
   "source": [
    "#1. Write a Python program which accepts a sequence of comma-separated numbers \n",
    "#from user and generate a list and a tuple with those numbers.\n",
    "\n",
    "num1=input(\"Enter the number sequence: \")\n",
    "list=num1.split(\",\")\n",
    "tuple=tuple(list)\n",
    "print(\"List is: \",list)\n",
    "print(\"tuple is: \",tuple)\n"
   ]
  },
  {
   "cell_type": "code",
   "execution_count": 7,
   "id": "761e08d7",
   "metadata": {},
   "outputs": [
    {
     "name": "stdout",
     "output_type": "stream",
     "text": [
      "Red\n",
      "Black\n"
     ]
    }
   ],
   "source": [
    "# 2. Write a Python program to display the first and last colors from the following list.\n",
    "# color_list = [\"Red\",\"Green\",\"White\" ,\"Black\"]\n",
    "\n",
    "color=[\"Red\",\"Green\",\"White\",\"Black\"]\n",
    "first_color=color[0]\n",
    "last_color=color[-1]\n",
    "print(first_color)\n",
    "print(last_color)"
   ]
  },
  {
   "cell_type": "code",
   "execution_count": 14,
   "id": "1cf8a3a7",
   "metadata": {},
   "outputs": [
    {
     "name": "stdout",
     "output_type": "stream",
     "text": [
      "[1, 2, 3, 4, 5, 6, 7, 8, 9]\n",
      "list1 even is:  [2, 4, 6, 8]\n"
     ]
    }
   ],
   "source": [
    "# 3. Write a Python program to print the even numbers from a given list.\n",
    "#  Sample List : [1, 2, 3, 4, 5, 6, 7, 8, 9]\n",
    "\n",
    "list1=[1, 2, 3, 4, 5, 6, 7, 8, 9]\n",
    "list2=[i for i in list1 if i % 2 == 0]\n",
    "\n",
    "print(list1)\n",
    "print(\"list1 even is: \",list2)\n"
   ]
  },
  {
   "cell_type": "code",
   "execution_count": null,
   "id": "49803281",
   "metadata": {},
   "outputs": [],
   "source": [
    "##---------------------------------   Module      --------------------------------------------------------"
   ]
  },
  {
   "cell_type": "code",
   "execution_count": 3,
   "id": "69a6eef9",
   "metadata": {},
   "outputs": [
    {
     "name": "stdout",
     "output_type": "stream",
     "text": [
      "9  days\n"
     ]
    }
   ],
   "source": [
    "## 1. Write a Python program to calculate number of days between two dates. Hint: use Datetime package/module.\n",
    "\n",
    "from datetime import datetime\n",
    "\n",
    "date1=datetime(2014,7,2)\n",
    "date2=datetime(2014,7,11)\n",
    "date_diff=date2 - date1\n",
    "print(date_diff.days,\" days\")"
   ]
  },
  {
   "cell_type": "code",
   "execution_count": 6,
   "id": "c50548d3",
   "metadata": {},
   "outputs": [
    {
     "name": "stdout",
     "output_type": "stream",
     "text": [
      "Enter the First date(yyyy,mm,dd): 2014-07-02\n",
      "Enter the First date(yyyy,mm,dd): 2014-07-11\n",
      "9  days\n"
     ]
    }
   ],
   "source": [
    "d1=input(\"Enter the First date(yyyy,mm,dd): \")\n",
    "d2=input(\"Enter the second date(yyyy,mm,dd): \")\n",
    "d1_int=datetime.strptime(d1,\"%Y-%m-%d\")\n",
    "d2_int=datetime.strptime(d2,\"%Y-%m-%d\")\n",
    "d_diff=d2_int-d1_int\n",
    "print(d_diff.days,\" days\")"
   ]
  },
  {
   "cell_type": "code",
   "execution_count": 25,
   "id": "b748dcdd",
   "metadata": {},
   "outputs": [],
   "source": [
    "##-------------------------------------   Function    ----------------------------------------------------"
   ]
  },
  {
   "cell_type": "code",
   "execution_count": 26,
   "id": "faa9e191",
   "metadata": {},
   "outputs": [],
   "source": [
    "## 1. Write a Python program to get the volume of a sphere with radius 6.\n",
    "\n",
    "import math"
   ]
  },
  {
   "cell_type": "code",
   "execution_count": 28,
   "id": "2543608e",
   "metadata": {},
   "outputs": [
    {
     "name": "stdout",
     "output_type": "stream",
     "text": [
      "Volume of sphere:  904.7786842338603\n"
     ]
    }
   ],
   "source": [
    "radius=6\n",
    "volume=(4/3) * math.pi * radius**3\n",
    "print(\"Volume of sphere: \",volume)"
   ]
  },
  {
   "cell_type": "code",
   "execution_count": 35,
   "id": "4ed92f2c",
   "metadata": {},
   "outputs": [
    {
     "name": "stdout",
     "output_type": "stream",
     "text": [
      "Enter the first number: 1\n",
      "Enter the second number: 2\n",
      "Enter the thrid number: 3\n",
      "6\n"
     ]
    }
   ],
   "source": [
    "## 2. Write a Python program to calculate the sum of three given numbers,\n",
    "#if the values are equal then return three times of their sum hint:write User defined functions\n",
    "\n",
    "a=int(input(\"Enter the first number: \"))\n",
    "b=int(input(\"Enter the second number: \"))\n",
    "c=int(input(\"Enter the thrid number: \"))\n",
    "\n",
    "def three_number(a,b,c):\n",
    "    if a==b==c:\n",
    "        return (a+b+c)*3\n",
    "    else:\n",
    "        return a+b+c\n",
    "\n",
    "print(three_number(a,b,c))"
   ]
  },
  {
   "cell_type": "code",
   "execution_count": 39,
   "id": "0485d546",
   "metadata": {},
   "outputs": [
    {
     "name": "stderr",
     "output_type": "stream",
     "text": [
      "C:\\Users\\sohel\\AppData\\Local\\Temp\\ipykernel_15616\\1047034756.py:8: FutureWarning: Unlike other reduction functions (e.g. `skew`, `kurtosis`), the default behavior of `mode` typically preserves the axis it acts along. In SciPy 1.11.0, this behavior will change: the default value of `keepdims` will become False, the `axis` over which the statistic is taken will be eliminated, and the value None will no longer be accepted. Set `keepdims` to True or False to avoid this warning.\n",
      "  stats.mode(list_count)\n"
     ]
    },
    {
     "data": {
      "text/plain": [
       "ModeResult(mode=array([4]), count=array([3]))"
      ]
     },
     "execution_count": 39,
     "metadata": {},
     "output_type": "execute_result"
    }
   ],
   "source": [
    "## 3.  Write a Python program to count the number 4 in a given list.\n",
    "##  List = [1,4,6,8,4,9,4]\n",
    "\n",
    "from scipy import stats\n",
    "\n",
    "list_count=[1,4,6,8,4,9,4]\n",
    "\n",
    "stats.mode(list_count)"
   ]
  },
  {
   "cell_type": "code",
   "execution_count": 8,
   "id": "e8261408",
   "metadata": {},
   "outputs": [
    {
     "name": "stdout",
     "output_type": "stream",
     "text": [
      "3\n"
     ]
    }
   ],
   "source": [
    "list=[1,4,6,8,4,9,4]\n",
    "count=0\n",
    "for i in list:\n",
    "    if i == 4:\n",
    "        count=count+1\n",
    "print(count)\n"
   ]
  },
  {
   "cell_type": "code",
   "execution_count": 12,
   "id": "1b18fe55",
   "metadata": {},
   "outputs": [
    {
     "name": "stdout",
     "output_type": "stream",
     "text": [
      "[162, 758, 918]\n"
     ]
    }
   ],
   "source": [
    "## 4. Write a Python program to print all even numbers from a given numbers list in the same order \n",
    "# and stop the printing if any numbers that come after 237 in the sequence. Go to the editorSample numbers list :\n",
    "\n",
    "# 399, 162, 758, 219, 918, 237, 412, 566, 826, 248, 866, 950, 626, 949, 687, 217,\n",
    "# 815, 67, 104, 58, 512, 24, 892, 894, 767, 553, 81, 379, 843, 831, 445, 742, 717,\n",
    "# 958,743, 527]\n",
    "\n",
    "num_list=[399, 162, 758, 219, 918, 237, 412, 566, 826, 248, 866, 950, 626, 949, 687, 217,\n",
    "815, 67, 104, 58, 512, 24, 892, 894, 767, 553, 81, 379, 843, 831, 445, 742, 717,\n",
    "958,743, 527]\n",
    "empty_list=[]\n",
    "for i in num_list:\n",
    "    if i % 2 ==0:\n",
    "        empty_list.append(i)\n",
    "    elif i == 237:\n",
    "        break\n",
    "print(empty_list)"
   ]
  },
  {
   "cell_type": "code",
   "execution_count": 44,
   "id": "85b21983",
   "metadata": {},
   "outputs": [
    {
     "name": "stdout",
     "output_type": "stream",
     "text": [
      "1505\n",
      "1540\n",
      "1575\n",
      "1610\n",
      "1645\n",
      "1680\n",
      "1715\n",
      "1750\n",
      "1785\n",
      "1820\n",
      "1855\n",
      "1890\n",
      "1925\n",
      "1960\n",
      "1995\n",
      "2030\n",
      "2065\n",
      "2100\n",
      "2135\n",
      "2170\n",
      "2205\n",
      "2240\n",
      "2275\n",
      "2310\n",
      "2345\n",
      "2380\n",
      "2415\n",
      "2450\n",
      "2485\n",
      "2520\n",
      "2555\n",
      "2590\n",
      "2625\n",
      "2660\n",
      "2695\n"
     ]
    }
   ],
   "source": [
    "## 5. Write a Python program to find those numbers \n",
    "## which are divisible by 7 and multiple of 5, between 1500 and 2700 (both included)\n",
    "\n",
    "for i in range(1500,2701):\n",
    "    if i % 7 == 0 and i % 5 == 0:\n",
    "        print(i)"
   ]
  },
  {
   "cell_type": "code",
   "execution_count": 51,
   "id": "573457fe",
   "metadata": {},
   "outputs": [
    {
     "name": "stdout",
     "output_type": "stream",
     "text": [
      "0\n",
      "1\n",
      "2\n",
      "4\n",
      "5\n"
     ]
    }
   ],
   "source": [
    "## 6. Write a Python program that prints all the numbers from 0 to 6 except 3 and 6.\n",
    "##  Note : Use 'continue' statement.\n",
    "\n",
    "for i in range(0,7):\n",
    "    if i == 3 or i == 6:\n",
    "        continue\n",
    "    print(i)\n"
   ]
  },
  {
   "cell_type": "code",
   "execution_count": null,
   "id": "cdf69d5d",
   "metadata": {},
   "outputs": [],
   "source": [
    "## 7. Write a Python program to get the Fibonacci series between 0 to 50.\n",
    "# Note : The Fibonacci Sequence is the series of numbers :\n",
    "# 0, 1, 1, 2, 3, 5, 8, 13, 21, ....\n",
    "# Every next number is found by adding up the two numbers before it.\n"
   ]
  },
  {
   "cell_type": "code",
   "execution_count": 58,
   "id": "4745109b",
   "metadata": {},
   "outputs": [
    {
     "name": "stdout",
     "output_type": "stream",
     "text": [
      "unique element list:  [1 2 3 4 5]\n"
     ]
    }
   ],
   "source": [
    "## 9. Write a Python function that takes a list and returns a new list with unique elements of the first list.\n",
    "# Sample List : [1,2,3,3,3,3,4,5]\n",
    "\n",
    "import numpy as np\n",
    "\n",
    "list_unique=[1,2,3,3,3,3,4,5]\n",
    "new_list=np.array(list_unique)\n",
    "unq_list=np.unique(new_list)\n",
    "print(\"unique element list: \",unq_list)\n",
    "\n"
   ]
  },
  {
   "cell_type": "code",
   "execution_count": 15,
   "id": "9c14b936",
   "metadata": {},
   "outputs": [
    {
     "name": "stdout",
     "output_type": "stream",
     "text": [
      "[1, 2, 3, 4, 5]\n"
     ]
    }
   ],
   "source": [
    "list_1=[1,2,3,3,3,3,4,5]\n",
    "empty_list1=[]\n",
    "\n",
    "for i in list_1:\n",
    "    if i not in empty_list1:\n",
    "        empty_list1.append(i)      \n",
    "print(empty_list1)"
   ]
  },
  {
   "cell_type": "code",
   "execution_count": 17,
   "id": "869bd279",
   "metadata": {},
   "outputs": [
    {
     "name": "stdout",
     "output_type": "stream",
     "text": [
      "{1: 10, 2: 20, 3: 30, 4: 40, 5: 50, 6: 60}\n"
     ]
    }
   ],
   "source": [
    "##-----------------------------------------       Dictionary            ----------------------------------------------\n",
    "\n",
    "##1. Write a Python script to concatenate following dictionaries to create a new one.\n",
    "\n",
    "##dic1={1:10, 2:20},      dic2={3:30, 4:40},             dic3={5:50,6:60}\n",
    "\n",
    "dis1={1:10, 2:20}\n",
    "dis2={3:30, 4:40}\n",
    "dis3={5:50, 6:60}\n",
    "empty_dis={}\n",
    "\n",
    "empty_dis.update(dis1)\n",
    "empty_dis.update(dis2)\n",
    "empty_dis.update(dis3)\n",
    "\n",
    "print(empty_dis)"
   ]
  },
  {
   "cell_type": "code",
   "execution_count": 36,
   "id": "b8459573",
   "metadata": {},
   "outputs": [
    {
     "name": "stdout",
     "output_type": "stream",
     "text": [
      "Addition:\n",
      "0     3\n",
      "1     7\n",
      "2    11\n",
      "3    15\n",
      "4    19\n",
      "dtype: int64\n",
      "Subtraction:\n",
      "0    1\n",
      "1    1\n",
      "2    1\n",
      "3    1\n",
      "4    1\n",
      "dtype: int64\n",
      "Multipliction:\n",
      "0     2\n",
      "1    12\n",
      "2    30\n",
      "3    56\n",
      "4    90\n",
      "dtype: int64\n",
      "Division\n",
      "0    2.000000\n",
      "1    1.333333\n",
      "2    1.200000\n",
      "3    1.142857\n",
      "4    1.111111\n",
      "dtype: float64\n"
     ]
    }
   ],
   "source": [
    "##---------------------------------------      Series      ------------------------------------------------------\n",
    "\n",
    "\n",
    "## 1. Write a Python program to add, subtract, multiple and divide two Pandas Series.\n",
    "##  Sample Series: [2, 4, 6, 8, 10], [1, 3, 5, 7, 9]\n",
    "\n",
    "import pandas as pd\n",
    "\n",
    "series1 = pd.Series([2, 4, 6, 8, 10])\n",
    "series2 = pd.Series([1, 3, 5, 7, 9])\n",
    "\n",
    "addition = series1 + series2\n",
    "print(\"Addition:\")\n",
    "print(addition)\n",
    "\n",
    "\n",
    "subtraction= series1 - series2\n",
    "print(\"Subtraction:\")\n",
    "print(subtraction)\n",
    "\n",
    "\n",
    "multiplication = series1 * series2\n",
    "print(\"Multipliction:\")\n",
    "print(multiplication)\n",
    "\n",
    "\n",
    "\n",
    "division =  series1 / series2\n",
    "print(\"Division\")\n",
    "print(division)\n"
   ]
  },
  {
   "cell_type": "code",
   "execution_count": null,
   "id": "7b455f9c",
   "metadata": {},
   "outputs": [],
   "source": [
    "##----------------------------------------       Basic Programs      -----------------------------------------------"
   ]
  },
  {
   "cell_type": "code",
   "execution_count": null,
   "id": "562a25b1",
   "metadata": {},
   "outputs": [],
   "source": [
    "## 1. Write Python Programs to use various operators in Python"
   ]
  },
  {
   "cell_type": "code",
   "execution_count": 45,
   "id": "2a7840ed",
   "metadata": {},
   "outputs": [
    {
     "name": "stdout",
     "output_type": "stream",
     "text": [
      "addition of two number:  19\n",
      "subtraction of two number:  7\n",
      "multiplication of two number:  78\n",
      "division of two number:  2.1666666666666665\n",
      "result of division:  2\n",
      "module of division:  2.1666666666666665\n",
      "Exponentiation:  4826809\n"
     ]
    }
   ],
   "source": [
    "## 1. Arithmetic Operators:\n",
    "\n",
    "a = 13\n",
    "b = 6\n",
    "\n",
    "## \" '+' - addition\" operator use for adding two number\n",
    "addition = a+b         \n",
    "print(\"addition of two number: \",addition)\n",
    "\n",
    "## \" '-' subtraction \" operator use for subtracting two number / find the difference between two number\n",
    "subtraction = a-b\n",
    "print(\"subtraction of two number: \",subtraction)\n",
    "\n",
    "## \" '*' -multiplication / product\" operator use for multipluing / product of the two number\n",
    "multiplying = a*b\n",
    "print(\"multiplication of two number: \",multiplying)\n",
    "\n",
    "## \" '/' - divisio\" operator use for divide the two number\n",
    "divide = a/b\n",
    "print(\"division of two number: \",divide)\n",
    "\n",
    "## \" '//' - result only\" operator give only result of division not remander\n",
    "result= a//b\n",
    "print(\"result of division: \",result)\n",
    "\n",
    "## \" '%'' - module\" operator give only remainder of division\n",
    "module= a/b\n",
    "print(\"module of division: \",module)\n",
    "\n",
    "## \" '**' - Exponentiation / power\"\n",
    "power= a**b\n",
    "print(\"Exponentiation: \",power)"
   ]
  },
  {
   "cell_type": "code",
   "execution_count": 47,
   "id": "606cd587",
   "metadata": {},
   "outputs": [
    {
     "name": "stdout",
     "output_type": "stream",
     "text": [
      "grater than:  False\n",
      "less than:  True\n",
      "equal to:  False\n",
      "not equal:  True\n",
      "greater than equal:  False\n",
      "less than equal:  True\n"
     ]
    }
   ],
   "source": [
    "## 2. Comparison Operators:\n",
    "\n",
    "x = 8\n",
    "y = 10\n",
    "\n",
    "## \" '>' - Greater than\"\n",
    "grater_than = x>y\n",
    "print(\"grater than: \",grater_than)\n",
    "\n",
    "## \" '<' - Less than\"\n",
    "less_than = x<y\n",
    "print(\"less than: \",less_than)\n",
    "\n",
    "## \" '==' - Equal to\"\n",
    "equal = x==y\n",
    "print(\"equal to: \",equal)\n",
    "\n",
    "## \" '!=' - Not equal to\"\n",
    "not_equal = x!=y\n",
    "print(\"not equal: \",not_equal)\n",
    "\n",
    "## \" '>=' - Greater than equal\"\n",
    "GTE = x >= y\n",
    "print(\"greater than equal: \",GTE)\n",
    "\n",
    "## \" '<=' - Less than equal\"\n",
    "LTE = x<=y\n",
    "print(\"less than equal: \",LTE)\n",
    "\n",
    "\n"
   ]
  },
  {
   "cell_type": "code",
   "execution_count": 61,
   "id": "515ead03",
   "metadata": {},
   "outputs": [
    {
     "name": "stdout",
     "output_type": "stream",
     "text": [
      "logical and:  True\n",
      "logical and:  False\n",
      "logical or:  True\n",
      "logical1 or:  False\n",
      "logical not:  False\n",
      "logical not:  True\n"
     ]
    }
   ],
   "source": [
    "## 3. Logical Operators:\n",
    "\n",
    "x = 6\n",
    "\n",
    "## \"'And' Operator\" Returns True if both statements are true\n",
    "logical_And = x>3 and x<8\n",
    "print(\"logical and: \",logical_And)\n",
    "\n",
    "logical1_and = x>4 and x>8\n",
    "print(\"logical and: \",logical1_and)\n",
    "\n",
    "## \" 'or' Operator\" Returns True if one of the statements is true or if both the statement is false than returns false\n",
    "logical_Or = x>7 or x<9\n",
    "print(\"logical or: \",logical_Or)\n",
    "\n",
    "logical1_or = x>7 or x<6\n",
    "print(\"logical1 or: \",logical1_or)\n",
    "\n",
    "## \" 'not' Operator\" Reverse the result, returns False if the result is true\n",
    "logical_Not = not(x>3 and x<8)\n",
    "print(\"logical not: \",logical_Not)\n",
    "\n",
    "logical1_Not =  not(x>7 or x<6)\n",
    "print(\"logical not: \",logical1_Not)\n"
   ]
  },
  {
   "cell_type": "code",
   "execution_count": 74,
   "id": "883eda14",
   "metadata": {},
   "outputs": [
    {
     "name": "stdout",
     "output_type": "stream",
     "text": [
      "Print the list using index range:  ['green', 'red', 4, 7, 89]\n",
      "Print the list using index range and step:  ['bue', 'green']\n",
      "Print the list in reversed order:  [98, 89, 7, 4, 'red', 'green', 'balck', 'bue']\n",
      "Print the replace value from the list:  ['bue', 'balck', 'green', 'orange', 100, 98]\n"
     ]
    }
   ],
   "source": [
    "## 2. Create list of elements and slice and dice it\n",
    "\n",
    "elements=[\"bue\",\"balck\",\"green\",\"red\",4,7,89,98]\n",
    "\n",
    "list_slice1=elements[2:7]\n",
    "print(\"Print the list using index range: \",list_slice1)\n",
    "\n",
    "list_slice2=elements[:3:2]\n",
    "print(\"Print the list using index range and step: \",list_slice2)\n",
    "\n",
    "list_slice3=elements[::-1]\n",
    "print(\"Print the list in reversed order: \",list_slice3)\n",
    "\n",
    "elements[3:7]=[\"orange\",100]\n",
    "print(\"Print the replace value from the list: \",elements)"
   ]
  },
  {
   "cell_type": "code",
   "execution_count": 78,
   "id": "a8e73d65",
   "metadata": {},
   "outputs": [
    {
     "name": "stdout",
     "output_type": "stream",
     "text": [
      "Enter the number: 99\n",
      "sum ont exceed 100\n"
     ]
    }
   ],
   "source": [
    "## 3. Using while loop accept numbers until sum of numbers is less than 100\n",
    "\n",
    "sum = 0\n",
    "while sum<100:\n",
    "    num = int(input(\"Enter the number: \"))\n",
    "    sum = num+1\n",
    "print(\"sum ont exceed 100\")"
   ]
  },
  {
   "cell_type": "code",
   "execution_count": 17,
   "id": "f7a96daa",
   "metadata": {},
   "outputs": [
    {
     "name": "stdout",
     "output_type": "stream",
     "text": [
      "Enter the number: 1\n",
      "Enter the number: 2\n",
      "Enter the number: 99\n",
      "Sum not exceed 100\n"
     ]
    }
   ],
   "source": [
    "sum = 0\n",
    "\n",
    "for i in range(1,200):\n",
    "    num=int(input(\"Enter the number: \"))\n",
    "    sum =i + num\n",
    "    if sum>=100:\n",
    "         break\n",
    "print(\"Sum not exceed 100\")"
   ]
  },
  {
   "cell_type": "code",
   "execution_count": 24,
   "id": "dc4a3824",
   "metadata": {
    "scrolled": true
   },
   "outputs": [
    {
     "name": "stdout",
     "output_type": "stream",
     "text": [
      "[[ 2  3  4]\n",
      " [ 5  6  7]\n",
      " [ 8  9 10]]\n"
     ]
    }
   ],
   "source": [
    "## 6. Create a 3x3 matrix with values ranging from 2 to 10 using numpy\n",
    "\n",
    "import numpy as np\n",
    "\n",
    "matrix = np.arange(2,11).reshape(3,3)\n",
    "print(matrix)"
   ]
  },
  {
   "cell_type": "code",
   "execution_count": 27,
   "id": "da15d6e6",
   "metadata": {},
   "outputs": [
    {
     "name": "stdout",
     "output_type": "stream",
     "text": [
      "Numpy array:  [1 3 4 5 6 7]\n"
     ]
    }
   ],
   "source": [
    "## 7. Write a Python program to convert a list of numeric value into a one-dimensional NumPy array\n",
    "\n",
    "num_list= [1,3,4,5,6,7]\n",
    "array_list=np.array(num_list)\n",
    "print(\"Numpy array: \",array_list)"
   ]
  },
  {
   "cell_type": "code",
   "execution_count": 37,
   "id": "694331cd",
   "metadata": {},
   "outputs": [
    {
     "name": "stdout",
     "output_type": "stream",
     "text": [
      "[0. 0. 0. 0. 0. 0. 0. 0. 0. 0.]\n",
      "Update valuea:  [ 0.  0.  0.  0.  0.  0. 11.  0.  0.  0.]\n"
     ]
    }
   ],
   "source": [
    "## 8. \"Write a Python program to create a null vector of size 10 and update sixth value to 11.\n",
    "\n",
    "vector=np.zeros(10)\n",
    "print(vector)\n",
    "vector[6]=11\n",
    "print(\"Update valuea: \",vector)"
   ]
  },
  {
   "cell_type": "code",
   "execution_count": null,
   "id": "2cda08ce",
   "metadata": {},
   "outputs": [],
   "source": [
    "## 4. Write a python program Read & write Excel files "
   ]
  },
  {
   "cell_type": "code",
   "execution_count": null,
   "id": "6ebac7b8",
   "metadata": {},
   "outputs": [],
   "source": [
    "## 5. Write a python program to scrape reviews from a commercial web site"
   ]
  },
  {
   "cell_type": "code",
   "execution_count": null,
   "id": "e86588a3",
   "metadata": {},
   "outputs": [],
   "source": [
    "##--------------------------------------      Data Frame     -----------------------------------------------"
   ]
  },
  {
   "cell_type": "code",
   "execution_count": null,
   "id": "d8ec0434",
   "metadata": {},
   "outputs": [],
   "source": [
    "## 1.  Write a Pandas program to select the specified columns and rows from a given data frame. \n",
    "##Go to the editorSample Python dictionary data and list labels:"
   ]
  },
  {
   "cell_type": "code",
   "execution_count": 39,
   "id": "b8f91e78",
   "metadata": {},
   "outputs": [],
   "source": [
    "## 2. Use Crime dataset from LMS\n",
    "\n",
    "import pandas as pd\n",
    "\n",
    "df = pd.read_csv(r\"C:\\Users\\sohel\\Desktop\\Excelr Assignment\\Python Assignment\\crime_data.csv\")"
   ]
  },
  {
   "cell_type": "code",
   "execution_count": null,
   "id": "d2619709",
   "metadata": {},
   "outputs": [],
   "source": []
  }
 ],
 "metadata": {
  "kernelspec": {
   "display_name": "Python 3 (ipykernel)",
   "language": "python",
   "name": "python3"
  },
  "language_info": {
   "codemirror_mode": {
    "name": "ipython",
    "version": 3
   },
   "file_extension": ".py",
   "mimetype": "text/x-python",
   "name": "python",
   "nbconvert_exporter": "python",
   "pygments_lexer": "ipython3",
   "version": "3.10.9"
  }
 },
 "nbformat": 4,
 "nbformat_minor": 5
}
